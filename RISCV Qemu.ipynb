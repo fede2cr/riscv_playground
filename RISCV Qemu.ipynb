{
 "cells": [
  {
   "cell_type": "markdown",
   "metadata": {},
   "source": [
    "# RISC-V Qemu\n",
    "\n",
    "Ya que están agotados los CPUs RISCV64 disponibles, debemos usar Qemu con los últimos partes de RISC-V para correr nuestras distribuciones.\n",
    "\n",
    "Siguiendo esta Libreta puedes tener un ambiente de desarrollo y pruebas listo y funcionando en muy poco tiempo.\n",
    "\n",
    "Nota: Esta guía es un trabajo en desarrollo activo.\n",
    "\n",
    "Este tutorial está basado en [Riscv Qemu en Github](https://github.com/riscv/riscv-qemu) y el blog sobre [el stage4 de Fedora](https://rwmj.wordpress.com/2018/02/15/fedora-risc-v-runnable-stage-4-disk-images/).\n",
    "\n",
    "Mientras espero por un CPU RISCV64 para jugar con opciones de compilación y desempeño, estoy utilizando servidores poderosos patrocinados por [Greencore Solutions](https://www.greencore.co.cr/) y que corren Ubuntu. Si necesita ayuda haciendo funcionar esta guía en otras distribuciones, favor hacérmelo saber para agregarle información a este tutorial.\n",
    "\n",
    "Comenzamos por instalar paquetes básicos."
   ]
  },
  {
   "cell_type": "code",
   "execution_count": null,
   "metadata": {},
   "outputs": [],
   "source": [
    "cd ~\n",
    "sudo apt-get install -y git flex bison lftp\n",
    "sudo apt-get build-dep -y qemu"
   ]
  },
  {
   "cell_type": "markdown",
   "metadata": {},
   "source": [
    "Ahora descargamos el código, creamos un directorio para compilado, y ejecutamos configure, make y make install."
   ]
  },
  {
   "cell_type": "code",
   "execution_count": null,
   "metadata": {},
   "outputs": [],
   "source": [
    "git clone https://github.com/riscv/riscv-qemu.git\n",
    "cd riscv-qemu\n",
    "mkdir build\n",
    "cd build\n",
    "../configure\n",
    "make -j6\n",
    "sudo make install"
   ]
  },
  {
   "cell_type": "markdown",
   "metadata": {},
   "source": [
    "Descargamos el stage4 de Fedora. Este paso es necesario mientras se completa el stage4 de Slacware RISCV64."
   ]
  },
  {
   "cell_type": "code",
   "execution_count": null,
   "metadata": {},
   "outputs": [],
   "source": [
    "cd ~\n",
    "mkdir fedora-stage4\n",
    "cd fedora-stage4\n",
    "lftp -e \"mirror -c;exit\" https://fedorapeople.org/groups/risc-v/disk-images/"
   ]
  },
  {
   "cell_type": "markdown",
   "metadata": {},
   "source": [
    "Descomprimimos el stage4 para hacerlo disponible a Qemu, y creamos un segundo disco para desarrollo."
   ]
  },
  {
   "cell_type": "code",
   "execution_count": null,
   "metadata": {},
   "outputs": [],
   "source": [
    "xz -dk stage4-disk.img.xz\n",
    "fallocate -l 40G slack.img\n",
    "mkfs.ext4 slack.img"
   ]
  },
  {
   "cell_type": "markdown",
   "metadata": {},
   "source": [
    "**Desde una terminal**:\n",
    "```\n",
    "sudo qemu-system-riscv64 \\\n",
    "  -nographic -machine virt -m 6G -smp 6 \\\n",
    "  -kernel bbl \\\n",
    "  -append \"console=ttyS0 ro root=/dev/vda init=/usr/sbin/init\" \\\n",
    "  -device virtio-blk-device,drive=hd0 \\\n",
    "  -drive file=stage4-disk.img,format=raw,id=hd0 \\\n",
    "  -device virtio-net-device,netdev=usernet \\\n",
    "  -netdev tap,id=usernet \\\n",
    "  -device virtio-blk-device,drive=hd1 \\\n",
    "  -drive file=slack.img,format=raw,id=hd1\n",
    "```\n",
    "\n",
    "Luego de que el stage4 termine de arrancar, ya se puede conectar vía ssh.\n",
    "\n",
    "Yo recomendaría agregar estas herramientas básicas a Fedora\n",
    "```\n",
    "dnf install -y vim screen git bison byacc rsync libtool ncurses-devel gettext attr python2 ccache \\\n",
    "  libuuid-devel expat-devel libcap-ng-devel zlib-devel device-mapper-devel popt-devel libblkid-devel \\\n",
    "  libgcrypt-devel python2-devel flex bzip2-devel lzip lzo-devel gmp-devel libmpc-devel mpfr-devel \\\n",
    "  python3-devel curl curl-devel libarchive-devel qt5-devel automake help2man gtk2-devel cmake \\\n",
    "  openssl-devel asciidoc xmlto binutils-devel xapian-core xapian-core-devel sqlite \\\n",
    "  sqlite-devel qt5-devel sqlite-devel qt5-devel qt5-qtmultimedia-devel sqlite-devel perl-XML-Parser \\\n",
    "  texinfo gcc-c++ wget libffi-devel mpdecimal-devel libtool-ltdl-devel libunistring-devel \\\n",
    "  readline-devel libdwarf-devel guile-devel gnupg2 gnupg libksba-devel libassuan-devel \\\n",
    "  npth-devel gdbm-devel libpcap libpcap-devel libmnl-devel libnftnl-devel \\\n",
    "  libnetfilter_conntrack-devel libnetfilter_conntrack\n",
    "\n",
    "```\n",
    "\n",
    "Para desarrollo de Slackware, ejecutamos dentro del stage4 de Fedora:\n",
    "```\n",
    "cat << EOF >> /etc/fstab\n",
    "/dev/vdb /mnt ext4 defaults 0 0\n",
    "tmpfs   /tmp         tmpfs   nodev,nosuid,size=9G          0  0\n",
    "EOF\n",
    "mount -a\n",
    "cd /mnt/\n",
    "git clone https://github.com/fede2cr/slackware_riscv.git\n",
    "cd /\n",
    "tar xJvf /mnt/slackware_riscv/slackware-current/slackware/a/pkgtools-15.0-noarch-6.txz\n",
    "export PATH=\"/usr/lib64/ccache/:$PATH:/sbin\"\n",
    "export NUMJOBS=\" -j6 \"\n",
    "mkdir /mnt/chroot\n",
    "/mnt/slackware_riscv/people/fede2/tools/build_chroot.sh\n",
    "```"
   ]
  }
 ],
 "metadata": {
  "kernelspec": {
   "display_name": "Bash",
   "language": "bash",
   "name": "bash"
  },
  "language_info": {
   "codemirror_mode": "shell",
   "file_extension": ".sh",
   "mimetype": "text/x-sh",
   "name": "bash"
  }
 },
 "nbformat": 4,
 "nbformat_minor": 2
}
