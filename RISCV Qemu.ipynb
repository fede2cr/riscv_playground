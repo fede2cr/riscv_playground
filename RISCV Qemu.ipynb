{
 "cells": [
  {
   "cell_type": "markdown",
   "metadata": {},
   "source": [
    "# RISC-V Qemu\n",
    "\n",
    "Since there are no available RISCV64 CPUs just yet, we need to use Qemu with the latest RISC-V patches to run our distributions.\n",
    "\n",
    "Following this Notebook you can have a development or testing machine ready to use in very little time at all.\n",
    "\n",
    "Note: This guide is still a work in progress.\n",
    "TODO:\n",
    "- Add comments about what the commands do\n",
    "- Add info about how to create slack.img\n",
    "\n",
    "https://github.com/riscv/riscv-qemu\n",
    "https://rwmj.wordpress.com/2018/02/15/fedora-risc-v-runnable-stage-4-disk-images/"
   ]
  },
  {
   "cell_type": "code",
   "execution_count": null,
   "metadata": {},
   "outputs": [],
   "source": [
    "cd ~\n",
    "sudo apt-get install -y git flex bison lftp\n",
    "sudo apt-get build-dep -y qemu"
   ]
  },
  {
   "cell_type": "code",
   "execution_count": null,
   "metadata": {},
   "outputs": [],
   "source": [
    "git clone https://github.com/riscv/riscv-qemu.git"
   ]
  },
  {
   "cell_type": "code",
   "execution_count": null,
   "metadata": {},
   "outputs": [],
   "source": [
    "cd riscv-qemu"
   ]
  },
  {
   "cell_type": "code",
   "execution_count": null,
   "metadata": {},
   "outputs": [],
   "source": [
    "mkdir build\n",
    "cd build\n",
    "../configure"
   ]
  },
  {
   "cell_type": "code",
   "execution_count": null,
   "metadata": {},
   "outputs": [],
   "source": [
    "make -j6"
   ]
  },
  {
   "cell_type": "code",
   "execution_count": null,
   "metadata": {},
   "outputs": [],
   "source": [
    "sudo make install"
   ]
  },
  {
   "cell_type": "code",
   "execution_count": null,
   "metadata": {},
   "outputs": [],
   "source": [
    "cd ~\n",
    "mkdir fedora-stage4\n",
    "cd fedora-stage4\n",
    "lftp -e \"mirror -c;exit\" https://fedorapeople.org/groups/risc-v/disk-images/"
   ]
  },
  {
   "cell_type": "code",
   "execution_count": null,
   "metadata": {},
   "outputs": [],
   "source": [
    "xz -dk stage4-disk.img.xz"
   ]
  },
  {
   "cell_type": "markdown",
   "metadata": {},
   "source": [
    "**From a terminal**:\n",
    "```\n",
    "sudo qemu-system-riscv64 \\\n",
    "  -nographic -machine virt -m 6G -smp 6 \\\n",
    "  -kernel bbl \\\n",
    "  -append \"console=ttyS0 ro root=/dev/vda init=/init\" \\\n",
    "  -device virtio-blk-device,drive=hd0 \\\n",
    "  -drive file=stage4-disk.img,format=raw,id=hd0 \\\n",
    "  -device virtio-net-device,netdev=usernet \\\n",
    "  -netdev tap,id=usernet \\\n",
    "  -device virtio-blk-device,drive=hd1\n",
    "  -drive file=slack.img,format=raw,id=hd1\n",
    "```\n",
    "\n"
   ]
  },
  {
   "cell_type": "code",
   "execution_count": null,
   "metadata": {},
   "outputs": [],
   "source": []
  }
 ],
 "metadata": {
  "kernelspec": {
   "display_name": "Bash",
   "language": "bash",
   "name": "bash"
  },
  "language_info": {
   "codemirror_mode": "shell",
   "file_extension": ".sh",
   "mimetype": "text/x-sh",
   "name": "bash"
  }
 },
 "nbformat": 4,
 "nbformat_minor": 2
}
