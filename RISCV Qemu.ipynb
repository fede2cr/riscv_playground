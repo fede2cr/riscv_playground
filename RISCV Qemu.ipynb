{
 "cells": [
  {
   "cell_type": "markdown",
   "metadata": {},
   "source": [
    "# RISC-V Qemu\n",
    "\n",
    "Since there are no available RISCV64 CPUs just yet, we need to use Qemu with the latest RISC-V patches to run our distributions.\n",
    "\n",
    "Following this Notebook you can have a development or testing machine ready to use in very little time at all.\n",
    "\n",
    "Note: This guide is still a work in progress.\n",
    "TODO:\n",
    "- Add comments about what the commands do\n",
    "- Add info about how to create slack.img\n",
    "\n",
    "This tutorial is based on [Riscv Qemu at Github](https://github.com/riscv/riscv-qemu) and the blog about [Fedora stage4](https://rwmj.wordpress.com/2018/02/15/fedora-risc-v-runnable-stage-4-disk-images/).\n",
    "\n",
    "While I wait to get a RiscV64 chip to play with compiler options and performance, I am using some beafy servers provided by [Greencore Solutions](https://www.greencore.co.cr/) that run Ubuntu. If you need help with any other distribution, please let me know and I'll add it to the tutorial.\n",
    "\n",
    "Let's start by installing basic packages."
   ]
  },
  {
   "cell_type": "code",
   "execution_count": null,
   "metadata": {},
   "outputs": [],
   "source": [
    "cd ~\n",
    "sudo apt-get install -y git flex bison lftp\n",
    "sudo apt-get build-dep -y qemu"
   ]
  },
  {
   "cell_type": "markdown",
   "metadata": {},
   "source": [
    "We now download the code, create a build directory and configure, make and make install."
   ]
  },
  {
   "cell_type": "code",
   "execution_count": null,
   "metadata": {},
   "outputs": [],
   "source": [
    "git clone https://github.com/riscv/riscv-qemu.git\n",
    "cd riscv-qemu\n",
    "mkdir build\n",
    "cd build\n",
    "../configure\n",
    "make -j6\n",
    "sudo make install"
   ]
  },
  {
   "cell_type": "markdown",
   "metadata": {},
   "source": [
    "Download the fedora stage4, this will only be necesary while the Slackware RISCV stage4 is ready."
   ]
  },
  {
   "cell_type": "code",
   "execution_count": null,
   "metadata": {},
   "outputs": [],
   "source": [
    "cd ~\n",
    "mkdir fedora-stage4\n",
    "cd fedora-stage4\n",
    "lftp -e \"mirror -c;exit\" https://fedorapeople.org/groups/risc-v/disk-images/"
   ]
  },
  {
   "cell_type": "markdown",
   "metadata": {},
   "source": [
    "Now, uncompress the stage4 to make it available to Qemu, and also create a secondary device for development."
   ]
  },
  {
   "cell_type": "code",
   "execution_count": null,
   "metadata": {},
   "outputs": [],
   "source": [
    "xz -dk stage4-disk.img.xz\n",
    "fallocate -l 40G slack.img\n",
    "mkfs.ext4 slack.img"
   ]
  },
  {
   "cell_type": "markdown",
   "metadata": {},
   "source": [
    "**From a terminal**:\n",
    "```\n",
    "sudo qemu-system-riscv64 \\\n",
    "  -nographic -machine virt -m 6G -smp 6 \\\n",
    "  -kernel bbl \\\n",
    "  -append \"console=ttyS0 ro root=/dev/vda init=/usr/sbin/init\" \\\n",
    "  -device virtio-blk-device,drive=hd0 \\\n",
    "  -drive file=stage4-disk.img,format=raw,id=hd0 \\\n",
    "  -device virtio-net-device,netdev=usernet \\\n",
    "  -netdev tap,id=usernet \\\n",
    "  -device virtio-blk-device,drive=hd1 \\\n",
    "  -drive file=slack.img,format=raw,id=hd1\n",
    "```\n",
    "\n",
    "After the stage4 has booted, you can now connect to it via ssh.\n",
    "\n",
    "I would recommend adding this basic tools to Fedora:\n",
    "```\n",
    "dnf install -y vim screen git bison byacc rsync libtool ncurses-devel gettext attr python2 ccache \\\n",
    "  libuuid-devel expat-devel libcap-ng-devel zlib-devel device-mapper-devel popt-devel libblkid-devel \\\n",
    "  libgcrypt-devel python2-devel\n",
    "```\n",
    "\n",
    "For Slackware development, inside the Fedora stage4:\n",
    "```\n",
    "cd /\n",
    "tar xJvf /mnt/slackware-current/slackware/a/pkgtools-15.0-noarch-6.txz\n",
    "export PATH=\"/usr/lib64/ccache/:$PATH:/sbin\"\n",
    "```"
   ]
  }
 ],
 "metadata": {
  "kernelspec": {
   "display_name": "Bash",
   "language": "bash",
   "name": "bash"
  },
  "language_info": {
   "codemirror_mode": "shell",
   "file_extension": ".sh",
   "mimetype": "text/x-sh",
   "name": "bash"
  }
 },
 "nbformat": 4,
 "nbformat_minor": 2
}
