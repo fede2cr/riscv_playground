{
 "cells": [
  {
   "cell_type": "markdown",
   "metadata": {},
   "source": [
    "# Inseguridad en x86-64\n",
    "\n",
    "La arquitectura CISC desarrollada por Intel, AMD, VIA y Transmeta durante varias décadas ha venido haciendo una acumulación del set de [instrucciones](https://en.wikipedia.org/wiki/X86_instruction_listings).\n",
    "\n",
    "Investigadores de arquitectura de computadoras han encontrado por error o por curiosidad que existen instrucciones escondidas en los procesadores, algunas veces Intel actualizando su documentación de forma posterior a los descrubrimientos.\n",
    "\n",
    "Por esta razón investigadores de seguridad han comenzado a investigar el espacio de registros en los procesadores de architectura x86 para tratar de encontrar nuevas áreas escondidas y realizar posterior análisis sobre el posible accionar de las instrucciones escondidas, y buscar problemas de seguridad.\n",
    "\n",
    "Un excelente ejemplo es el proyecto de [Sandsifter](https://github.com/xoreaxeaxeax/sandsifter) y el video de presentación en [DEF CON 25](https://www.youtube.com/watch?v=ajccZ7LdvoQ).\n",
    "\n",
    "\n",
    "## Analizando nuestros equipos para detectar instruciones escondidas\n",
    "\n",
    "El siguiente ejemplo funciona para procesadores de la arquitectura de x86-64 tanto de Intel, AMD, VIA o Transmeta, incluso en procesadores viejos, por lo que si tiene equipos algo desactualizados en buen funcionamiento, se la alenta a ejecutar estas pruebas en dichos equipos.\n",
    "\n",
    "Laboratorio:"
   ]
  },
  {
   "cell_type": "code",
   "execution_count": null,
   "metadata": {},
   "outputs": [],
   "source": [
    "sudo apt install -y gcc-4.7\n",
    "cd ~\n",
    "git clone https://github.com/aquynh/capstone.git\n",
    "cd ~/capstone\n",
    "CC=gcc-4.7 ./make.sh\n",
    "CC=gcc-4.7 sudo ./make.sh install\n",
    "cd ~\n",
    "sudo pip2 install capstone\n",
    "git clone https://github.com/xoreaxeaxeax/sandsifter.git\n",
    "cd sandsifter\n",
    "CC=gcc-4.7 make"
   ]
  },
  {
   "cell_type": "markdown",
   "metadata": {},
   "source": [
    "Ahora ejecuta **desde una terminal**:\n",
    "\n",
    "```\n",
    "cd ~/sandsifter\n",
    "sudo ./sifter.py --unk --dis --len --sync --tick -- -P1 -t\n",
    "```\n",
    "\n",
    "Los números en rojo van a indicar instrucciones escondidas que han sido encontradas en este procesador.\n",
    "\n",
    "De forma opcional (requiere [**demasiado** RAM](https://github.com/xoreaxeaxeax/sandsifter/issues/45)) puede también ejecutar:\n",
    "\n",
    "```\n",
    "./summarize.py data/log\n",
    "```\n",
    "\n",
    "\n",
    "## ¿Como protegernos?\n",
    "\n",
    "De forma inmediata puede aplicar [parches de firmware](https://www.intel.com/content/www/us/en/support/articles/000025619/software.html) para sus servidores con procesadores Intel, así como detectar el problema en servidores alquilados y en la nube.\n",
    "\n",
    "## ¿Y a futuro?\n",
    "\n",
    "Intel, con un exceso de relaciones públicas (para decirlo de buena forma), luego de que los investigadores independientes presentan sus resultados, salen con que [ellos descubrieron las vulnerabilidades](https://it.slashdot.org/story/17/11/21/1435223/intel-weve-found-severe-bugs-in-secretive-management-engine-affecting-millions).\n",
    "\n",
    "Todavía falta mucha información de salir de Sandsifter, pero la similitud en instrucciones escondidas en Intel, AMD, VIA y Transmeta podrían indicar una puerta tracera forzada por algún agente de estado; así como esperar que redes criminales comiencen a utilizar estas vulnerabilidades para realizar ataques fuera de laboratorio.\n",
    "\n",
    "Al igual que es ridículo aceptar un ejecutable binario y correrlo en nuestros sistemas confiando la palabra del fabricante de que no tiene código malicioso, es imposible tener seguridad con procesadores con ISAs con tal bagaje histórico y de compatibilidad, con procesos de desarrollo secretivos y propietarios.\n",
    "\n",
    "## RISC-V\n",
    "\n",
    "La comunidad de RISC-V está creciendo enormemente y actualmente podemos adquirir chips como el [FE310](https://www.crowdsupply.com/sifive/hifive1) y productos basados en este chip, y se espera pronto la publicación y venta de procesadores para equipo de escritorio, servidor, supercomputadoras y otras necesidades.\n",
    "\n",
    "Claro, el hecho de que el código sea abierto no completa la tarea, dado que todavía hay que inspeccionar a diferentes niveles el silicón, y agregar otros tipos de protecciones, como nos cuenta [Bunnie Huang](https://www.youtube.com/watch?v=zXwy65d_tu8) [(filminas de la charla)](https://riscv.org/wp-content/uploads/2017/05/Wed1100-impedancematch-huang.pdf).\n",
    "\n",
    "*Importante:* Seguridad no es la única razón para moverse a RISC-V. Sea parte de la comunidad y comience a aprender las ventajas de diseño al ser un ISA moderno, basado en RISC, y las implementaciones propuestas ayudan a combatir el fin de la ley de Moore."
   ]
  }
 ],
 "metadata": {
  "kernelspec": {
   "display_name": "Bash",
   "language": "bash",
   "name": "bash"
  },
  "language_info": {
   "codemirror_mode": "shell",
   "file_extension": ".sh",
   "mimetype": "text/x-sh",
   "name": "bash"
  }
 },
 "nbformat": 4,
 "nbformat_minor": 2
}
